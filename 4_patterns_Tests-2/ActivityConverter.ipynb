{
 "cells": [
  {
   "cell_type": "code",
   "execution_count": 2,
   "metadata": {
    "id": "t7gDT2TaQCyP"
   },
   "outputs": [],
   "source": [
    "import pm4py\n",
    "import pandas as pd\n",
    "from PIL import Image\n",
    "import numpy as np\n",
    "from abc import ABC, abstractmethod"
   ]
  },
  {
   "cell_type": "code",
   "execution_count": null,
   "metadata": {
    "id": "_VgqD5-HRzz7"
   },
   "outputs": [],
   "source": [
    "class Converter(ABC):\n",
    "  \n",
    "  def __init__(self, log_file_path, ch_sep, caseID_col_name, act_col_name, ts_col_name):\n",
    "        # Динамические поля (переменные объекта)\n",
    "        self.caseID_col_name = caseID_col_name \n",
    "        self.act_col_name = act_col_name\n",
    "        self.ts_col_name = ts_col_name\n",
    "\n",
    "        #self.event_log = pd.read_csv(log_file_path, sep=ch_sep)\n",
    "        self.event_log = pm4py.read_xes(log_file_path)\n",
    "        self.event_log[caseID_col_name]=self.event_log[caseID_col_name].apply(str)\n",
    "        self.event_log[act_col_name]=self.event_log[act_col_name].apply(str)\n",
    "        self.event_log[ts_col_name]= pd.to_datetime(self.event_log[ts_col_name])\n",
    "\n",
    "        self.event_log = self.event_log[[act_col_name, caseID_col_name, ts_col_name]]\n",
    "\n",
    "  @abstractmethod\n",
    "  def convert(self):\n",
    "    pass\n"
   ]
  },
  {
   "cell_type": "code",
   "execution_count": null,
   "metadata": {
    "id": "QpTEzMdfl2Sm"
   },
   "outputs": [],
   "source": [
    "class ActivityConverter(Converter):\n",
    "\n",
    "  def __get_unique_ids__(self):\n",
    "    ids = list(self.event_log[self.caseID_col_name].unique())\n",
    "    return ids\n",
    "\n",
    "  def __get_case_logs__(self, ids_list):\n",
    "    case_logs = []\n",
    "    for id in ids_list:\n",
    "      case_log = self.event_log.query(\"`{0}` == @id\".format(self.caseID_col_name))\n",
    "      case_log.sort_values(by=[self.ts_col_name])\n",
    "      case_logs.append(case_log)\n",
    "    return case_logs\n",
    "\n",
    "  def __get_prefix_traces__(self):\n",
    "    cases_prefix_traces = []\n",
    "    self.max_len_prefix_trace = 0\n",
    "\n",
    "    for case_log in self.case_logs:\n",
    "      prefix_traces_act = []\n",
    "      for i in range(1, len(case_log)+1):\n",
    "        prifix_trace = case_log[self.act_col_name].values[0:i]\n",
    "\n",
    "        #находим самую длинную префиксную трассу\n",
    "        if (len(prifix_trace) > self.max_len_prefix_trace):\n",
    "          self.max_len_prefix_trace = len(prifix_trace)\n",
    "\n",
    "        prefix_traces_act.append(prifix_trace)\n",
    "\n",
    "      cases_prefix_traces.append(prefix_traces_act)\n",
    "    return cases_prefix_traces\n",
    "\n",
    "  def __get_activity_matrices__(self, act_num, act_dict):\n",
    "    activity_matrices = []\n",
    "    for prefix_traces in self.cases_prefix_traces:\n",
    "      np_matrix = []\n",
    "      matrix = [ [0]*act_num for i in range(self.max_len_prefix_trace)]\n",
    "      for i in range(len(prefix_traces)):\n",
    "        for act in prefix_traces[i]:\n",
    "          act_index = act_dict[act]\n",
    "          matrix[i][act_index] += 1\n",
    "          np_matrix = np.asmatrix(matrix)\n",
    "          np_matrix = np_matrix.astype(\"uint8\")\n",
    "      activity_matrices.append(np_matrix)\n",
    "    return activity_matrices\n",
    "\n",
    "\n",
    "  def convert(self, path_to_dir):\n",
    "    ids_list = self.__get_unique_ids__()\n",
    "    self.case_logs = self.__get_case_logs__(ids_list)\n",
    "    self.cases_prefix_traces = self.__get_prefix_traces__()\n",
    "\n",
    "    # получаем уникальные активити\n",
    "    activities = list(self.event_log[self.act_col_name].unique())\n",
    "    act_dict = {}\n",
    "\n",
    "    # проводим типо изоморфизм между номером и активити\n",
    "    act_num = len(activities)\n",
    "    for i in range(act_num):\n",
    "      act_dict[activities[i]] = i\n",
    "\n",
    "    self.activity_matrices = self.__get_activity_matrices__(act_num, act_dict)\n",
    "  \n",
    "    index = 1\n",
    "    for np_matrix in self.activity_matrices:\n",
    "      norm_matrix = np_matrix.copy()\n",
    "      norm_matrix *= 255.0/norm_matrix.max()\n",
    "      A = np.squeeze(np.asarray(norm_matrix)) \n",
    "      img = Image.fromarray(A)\n",
    "\n",
    "      img = img.resize((224, 224), Image.NEAREST)\n",
    "      path = path_to_dir + \"/image_\" + str(index) + \".png\"\n",
    "      index+=1\n",
    "      img.save(path)      \n",
    "     "
   ]
  },
  {
   "cell_type": "code",
   "execution_count": null,
   "metadata": {
    "colab": {
     "base_uri": "https://localhost:8080/",
     "height": 49,
     "referenced_widgets": [
      "dc1b56e6a05e4f039817939a9f07bcc5",
      "5da2a03a0a3d4acaa7a625d01e8f20ec",
      "6c88028d578042298e3aafb924153d92",
      "d043dbde1fef4378b731662f71aa386f",
      "a8c9cf5205134754b48a82dd2ccca23b",
      "4d351271f81245a8a07e59e388917eb9",
      "3f62f2f075fc41acab62e405f550b644",
      "9f93232a52224f68a88e922e0255f8f9",
      "705a3e6fd0004247be107d5f94de16d3",
      "cad9c82ef6374f32b470503015beaa7b",
      "c1ae0f5db9b84ceb8bdb449121e245e4"
     ]
    },
    "id": "1y8bgYngskJI",
    "outputId": "aa830e53-317b-4389-e857-bd5e50556912"
   },
   "outputs": [
    {
     "data": {
      "application/vnd.jupyter.widget-view+json": {
       "model_id": "dc1b56e6a05e4f039817939a9f07bcc5",
       "version_major": 2,
       "version_minor": 0
      },
      "text/plain": [
       "parsing log, completed traces ::   0%|          | 0/100 [00:00<?, ?it/s]"
      ]
     },
     "metadata": {},
     "output_type": "display_data"
    }
   ],
   "source": [
    "act_conv = ActivityConverter('/content/drive/MyDrive/CourseProject/Test_3/Existence_Activity_universal.xes', ',', \"concept:instance\", \"concept:name\", \"time:timestamp\")\n",
    "#act_conv = ActivityConverter('/content/drive/MyDrive/CourseProject/Test_3/Response_Never_Log.xes', ',', \"concept:instance\", \"concept:name\", \"time:timestamp\")\n",
    "\n",
    "act_conv.convert('/content/drive/MyDrive/CourseProject/Test_3/Images_Existence_Activity_universal')\n",
    "#act_conv.convert('/content/drive/MyDrive/CourseProject/Test_3/Images_never')"
   ]
  },
  {
   "cell_type": "code",
   "execution_count": 11,
   "metadata": {},
   "outputs": [
    {
     "name": "stderr",
     "output_type": "stream",
     "text": [
      "parsing log, completed traces :: 100%|███████████████████████████████████████████| 1000/1000 [00:00<00:00, 2511.52it/s]\n",
      "D:\\CoureseProject\\ResponseNeverLogClassification\\courseproject\\lib\\site-packages\\pm4py\\objects\\log\\util\\dataframe_utils.py:176: UserWarning: Could not infer format, so each element will be parsed individually, falling back to `dateutil`. To ensure parsing is consistent and as-expected, please specify a format.\n",
      "  df[col] = pd.to_datetime(df[col], utc=True)\n",
      "D:\\CoureseProject\\ResponseNeverLogClassification\\courseproject\\lib\\site-packages\\pm4py\\objects\\log\\util\\dataframe_utils.py:176: UserWarning: Could not infer format, so each element will be parsed individually, falling back to `dateutil`. To ensure parsing is consistent and as-expected, please specify a format.\n",
      "  df[col] = pd.to_datetime(df[col], utc=True)\n",
      "D:\\CoureseProject\\ResponseNeverLogClassification\\courseproject\\lib\\site-packages\\pm4py\\objects\\log\\util\\dataframe_utils.py:176: UserWarning: Could not infer format, so each element will be parsed individually, falling back to `dateutil`. To ensure parsing is consistent and as-expected, please specify a format.\n",
      "  df[col] = pd.to_datetime(df[col], utc=True)\n"
     ]
    }
   ],
   "source": [
    "case_logs = []\n",
    "event_log = pm4py.read_xes('data_1/XES_NETS/Bounded_k_times.xes')\n",
    "#event_log = pm4py.read_xes('data_1/XES_NETS/Between_After_Before.xes')\n",
    "\n",
    "\n",
    "caseID_col_name = \"concept:instance\"\n",
    "ts_col_name = \"time:timestamp\"\n",
    "act_col_name = \"concept:name\"\n",
    "\n",
    "ids_list = list(event_log[caseID_col_name].unique())\n",
    "for id in ids_list:\n",
    "  case_log = event_log.query(\"`{0}` == @id\".format(caseID_col_name))\n",
    "  case_log.sort_values(by=[ts_col_name])\n",
    "  case_logs.append(case_log)"
   ]
  },
  {
   "cell_type": "code",
   "execution_count": null,
   "metadata": {},
   "outputs": [],
   "source": [
    "for case in case_logs:\n",
    "    print(case[act_col_name].values)"
   ]
  },
  {
   "cell_type": "code",
   "execution_count": 17,
   "metadata": {},
   "outputs": [],
   "source": [
    "data = [['Start', 'Ist', 'A', 'A', 'A', 'Icmp', 'End']] * 1000"
   ]
  },
  {
   "cell_type": "code",
   "execution_count": 20,
   "metadata": {},
   "outputs": [
    {
     "data": {
      "text/plain": [
       "['Start', 'Ist', 'A']"
      ]
     },
     "execution_count": 20,
     "metadata": {},
     "output_type": "execute_result"
    }
   ],
   "source": [
    "data[0][0:3]"
   ]
  },
  {
   "cell_type": "code",
   "execution_count": null,
   "metadata": {},
   "outputs": [],
   "source": []
  }
 ],
 "metadata": {
  "colab": {
   "provenance": []
  },
  "kernelspec": {
   "display_name": "courseproject",
   "language": "python",
   "name": "courseproject"
  },
  "language_info": {
   "codemirror_mode": {
    "name": "ipython",
    "version": 3
   },
   "file_extension": ".py",
   "mimetype": "text/x-python",
   "name": "python",
   "nbconvert_exporter": "python",
   "pygments_lexer": "ipython3",
   "version": "3.10.9"
  },
  "widgets": {
   "application/vnd.jupyter.widget-state+json": {
    "3f62f2f075fc41acab62e405f550b644": {
     "model_module": "@jupyter-widgets/controls",
     "model_module_version": "1.5.0",
     "model_name": "DescriptionStyleModel",
     "state": {
      "_model_module": "@jupyter-widgets/controls",
      "_model_module_version": "1.5.0",
      "_model_name": "DescriptionStyleModel",
      "_view_count": null,
      "_view_module": "@jupyter-widgets/base",
      "_view_module_version": "1.2.0",
      "_view_name": "StyleView",
      "description_width": ""
     }
    },
    "4d351271f81245a8a07e59e388917eb9": {
     "model_module": "@jupyter-widgets/base",
     "model_module_version": "1.2.0",
     "model_name": "LayoutModel",
     "state": {
      "_model_module": "@jupyter-widgets/base",
      "_model_module_version": "1.2.0",
      "_model_name": "LayoutModel",
      "_view_count": null,
      "_view_module": "@jupyter-widgets/base",
      "_view_module_version": "1.2.0",
      "_view_name": "LayoutView",
      "align_content": null,
      "align_items": null,
      "align_self": null,
      "border": null,
      "bottom": null,
      "display": null,
      "flex": null,
      "flex_flow": null,
      "grid_area": null,
      "grid_auto_columns": null,
      "grid_auto_flow": null,
      "grid_auto_rows": null,
      "grid_column": null,
      "grid_gap": null,
      "grid_row": null,
      "grid_template_areas": null,
      "grid_template_columns": null,
      "grid_template_rows": null,
      "height": null,
      "justify_content": null,
      "justify_items": null,
      "left": null,
      "margin": null,
      "max_height": null,
      "max_width": null,
      "min_height": null,
      "min_width": null,
      "object_fit": null,
      "object_position": null,
      "order": null,
      "overflow": null,
      "overflow_x": null,
      "overflow_y": null,
      "padding": null,
      "right": null,
      "top": null,
      "visibility": null,
      "width": null
     }
    },
    "5da2a03a0a3d4acaa7a625d01e8f20ec": {
     "model_module": "@jupyter-widgets/controls",
     "model_module_version": "1.5.0",
     "model_name": "HTMLModel",
     "state": {
      "_dom_classes": [],
      "_model_module": "@jupyter-widgets/controls",
      "_model_module_version": "1.5.0",
      "_model_name": "HTMLModel",
      "_view_count": null,
      "_view_module": "@jupyter-widgets/controls",
      "_view_module_version": "1.5.0",
      "_view_name": "HTMLView",
      "description": "",
      "description_tooltip": null,
      "layout": "IPY_MODEL_4d351271f81245a8a07e59e388917eb9",
      "placeholder": "​",
      "style": "IPY_MODEL_3f62f2f075fc41acab62e405f550b644",
      "value": "parsing log, completed traces :: 100%"
     }
    },
    "6c88028d578042298e3aafb924153d92": {
     "model_module": "@jupyter-widgets/controls",
     "model_module_version": "1.5.0",
     "model_name": "FloatProgressModel",
     "state": {
      "_dom_classes": [],
      "_model_module": "@jupyter-widgets/controls",
      "_model_module_version": "1.5.0",
      "_model_name": "FloatProgressModel",
      "_view_count": null,
      "_view_module": "@jupyter-widgets/controls",
      "_view_module_version": "1.5.0",
      "_view_name": "ProgressView",
      "bar_style": "success",
      "description": "",
      "description_tooltip": null,
      "layout": "IPY_MODEL_9f93232a52224f68a88e922e0255f8f9",
      "max": 100,
      "min": 0,
      "orientation": "horizontal",
      "style": "IPY_MODEL_705a3e6fd0004247be107d5f94de16d3",
      "value": 100
     }
    },
    "705a3e6fd0004247be107d5f94de16d3": {
     "model_module": "@jupyter-widgets/controls",
     "model_module_version": "1.5.0",
     "model_name": "ProgressStyleModel",
     "state": {
      "_model_module": "@jupyter-widgets/controls",
      "_model_module_version": "1.5.0",
      "_model_name": "ProgressStyleModel",
      "_view_count": null,
      "_view_module": "@jupyter-widgets/base",
      "_view_module_version": "1.2.0",
      "_view_name": "StyleView",
      "bar_color": null,
      "description_width": ""
     }
    },
    "9f93232a52224f68a88e922e0255f8f9": {
     "model_module": "@jupyter-widgets/base",
     "model_module_version": "1.2.0",
     "model_name": "LayoutModel",
     "state": {
      "_model_module": "@jupyter-widgets/base",
      "_model_module_version": "1.2.0",
      "_model_name": "LayoutModel",
      "_view_count": null,
      "_view_module": "@jupyter-widgets/base",
      "_view_module_version": "1.2.0",
      "_view_name": "LayoutView",
      "align_content": null,
      "align_items": null,
      "align_self": null,
      "border": null,
      "bottom": null,
      "display": null,
      "flex": null,
      "flex_flow": null,
      "grid_area": null,
      "grid_auto_columns": null,
      "grid_auto_flow": null,
      "grid_auto_rows": null,
      "grid_column": null,
      "grid_gap": null,
      "grid_row": null,
      "grid_template_areas": null,
      "grid_template_columns": null,
      "grid_template_rows": null,
      "height": null,
      "justify_content": null,
      "justify_items": null,
      "left": null,
      "margin": null,
      "max_height": null,
      "max_width": null,
      "min_height": null,
      "min_width": null,
      "object_fit": null,
      "object_position": null,
      "order": null,
      "overflow": null,
      "overflow_x": null,
      "overflow_y": null,
      "padding": null,
      "right": null,
      "top": null,
      "visibility": null,
      "width": null
     }
    },
    "a8c9cf5205134754b48a82dd2ccca23b": {
     "model_module": "@jupyter-widgets/base",
     "model_module_version": "1.2.0",
     "model_name": "LayoutModel",
     "state": {
      "_model_module": "@jupyter-widgets/base",
      "_model_module_version": "1.2.0",
      "_model_name": "LayoutModel",
      "_view_count": null,
      "_view_module": "@jupyter-widgets/base",
      "_view_module_version": "1.2.0",
      "_view_name": "LayoutView",
      "align_content": null,
      "align_items": null,
      "align_self": null,
      "border": null,
      "bottom": null,
      "display": null,
      "flex": null,
      "flex_flow": null,
      "grid_area": null,
      "grid_auto_columns": null,
      "grid_auto_flow": null,
      "grid_auto_rows": null,
      "grid_column": null,
      "grid_gap": null,
      "grid_row": null,
      "grid_template_areas": null,
      "grid_template_columns": null,
      "grid_template_rows": null,
      "height": null,
      "justify_content": null,
      "justify_items": null,
      "left": null,
      "margin": null,
      "max_height": null,
      "max_width": null,
      "min_height": null,
      "min_width": null,
      "object_fit": null,
      "object_position": null,
      "order": null,
      "overflow": null,
      "overflow_x": null,
      "overflow_y": null,
      "padding": null,
      "right": null,
      "top": null,
      "visibility": null,
      "width": null
     }
    },
    "c1ae0f5db9b84ceb8bdb449121e245e4": {
     "model_module": "@jupyter-widgets/controls",
     "model_module_version": "1.5.0",
     "model_name": "DescriptionStyleModel",
     "state": {
      "_model_module": "@jupyter-widgets/controls",
      "_model_module_version": "1.5.0",
      "_model_name": "DescriptionStyleModel",
      "_view_count": null,
      "_view_module": "@jupyter-widgets/base",
      "_view_module_version": "1.2.0",
      "_view_name": "StyleView",
      "description_width": ""
     }
    },
    "cad9c82ef6374f32b470503015beaa7b": {
     "model_module": "@jupyter-widgets/base",
     "model_module_version": "1.2.0",
     "model_name": "LayoutModel",
     "state": {
      "_model_module": "@jupyter-widgets/base",
      "_model_module_version": "1.2.0",
      "_model_name": "LayoutModel",
      "_view_count": null,
      "_view_module": "@jupyter-widgets/base",
      "_view_module_version": "1.2.0",
      "_view_name": "LayoutView",
      "align_content": null,
      "align_items": null,
      "align_self": null,
      "border": null,
      "bottom": null,
      "display": null,
      "flex": null,
      "flex_flow": null,
      "grid_area": null,
      "grid_auto_columns": null,
      "grid_auto_flow": null,
      "grid_auto_rows": null,
      "grid_column": null,
      "grid_gap": null,
      "grid_row": null,
      "grid_template_areas": null,
      "grid_template_columns": null,
      "grid_template_rows": null,
      "height": null,
      "justify_content": null,
      "justify_items": null,
      "left": null,
      "margin": null,
      "max_height": null,
      "max_width": null,
      "min_height": null,
      "min_width": null,
      "object_fit": null,
      "object_position": null,
      "order": null,
      "overflow": null,
      "overflow_x": null,
      "overflow_y": null,
      "padding": null,
      "right": null,
      "top": null,
      "visibility": null,
      "width": null
     }
    },
    "d043dbde1fef4378b731662f71aa386f": {
     "model_module": "@jupyter-widgets/controls",
     "model_module_version": "1.5.0",
     "model_name": "HTMLModel",
     "state": {
      "_dom_classes": [],
      "_model_module": "@jupyter-widgets/controls",
      "_model_module_version": "1.5.0",
      "_model_name": "HTMLModel",
      "_view_count": null,
      "_view_module": "@jupyter-widgets/controls",
      "_view_module_version": "1.5.0",
      "_view_name": "HTMLView",
      "description": "",
      "description_tooltip": null,
      "layout": "IPY_MODEL_cad9c82ef6374f32b470503015beaa7b",
      "placeholder": "​",
      "style": "IPY_MODEL_c1ae0f5db9b84ceb8bdb449121e245e4",
      "value": " 100/100 [00:00&lt;00:00, 634.10it/s]"
     }
    },
    "dc1b56e6a05e4f039817939a9f07bcc5": {
     "model_module": "@jupyter-widgets/controls",
     "model_module_version": "1.5.0",
     "model_name": "HBoxModel",
     "state": {
      "_dom_classes": [],
      "_model_module": "@jupyter-widgets/controls",
      "_model_module_version": "1.5.0",
      "_model_name": "HBoxModel",
      "_view_count": null,
      "_view_module": "@jupyter-widgets/controls",
      "_view_module_version": "1.5.0",
      "_view_name": "HBoxView",
      "box_style": "",
      "children": [
       "IPY_MODEL_5da2a03a0a3d4acaa7a625d01e8f20ec",
       "IPY_MODEL_6c88028d578042298e3aafb924153d92",
       "IPY_MODEL_d043dbde1fef4378b731662f71aa386f"
      ],
      "layout": "IPY_MODEL_a8c9cf5205134754b48a82dd2ccca23b"
     }
    }
   }
  }
 },
 "nbformat": 4,
 "nbformat_minor": 4
}
