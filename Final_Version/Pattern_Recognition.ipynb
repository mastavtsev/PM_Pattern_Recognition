{
 "cells": [
  {
   "cell_type": "markdown",
   "id": "63cd9e44-05e3-4ee7-bc58-856b40547a87",
   "metadata": {},
   "source": [
    "## Import necessary libraries"
   ]
  },
  {
   "cell_type": "code",
   "execution_count": 2,
   "id": "2101bc95-e05e-4f4d-84c8-5ea2bf4f6dfa",
   "metadata": {},
   "outputs": [],
   "source": [
    "import cv2 #OpenCV library for computer vision tasks\n",
    "import math #Standard Python library for mathematical functions\n",
    "import numpy as np #Library for numerical computing in Python\n",
    "import os #Standard Python library for interacting with the operating system\n",
    "import pm4py #Process mining library in Python\n",
    "import pandas as pd #Library for data manipulation and analysis\n",
    "from PIL import Image #Python Imaging Library for image processing tasks\n",
    "import glob #Standard Python library for file path matching\n",
    "import json #Standard Python library for working with JSON data\n",
    "import graphviz #Library for creating and rendering graph visualizations\n",
    "from matplotlib import pyplot as plt #Library for creating data visualizations in Python\n",
    "import tensorflow as tf #Open-source machine learning framework\n",
    "\n",
    "#Keras - High-level API for building and training deep learning models in TensorFlow\n",
    "from tensorflow.keras.metrics import Precision, Recall, BinaryAccuracy\n",
    "from tensorflow.keras.models import load_model, Sequential\n",
    "from tensorflow.keras.optimizers import Adam, RMSprop\n",
    "from tensorflow.keras.layers import Conv2D, MaxPooling2D, Dense, Flatten, Dropout, BatchNormalization"
   ]
  },
  {
   "cell_type": "markdown",
   "id": "42ad6971-37b6-4ba6-82c6-a8de6fb10ec3",
   "metadata": {},
   "source": [
    "## Creat classes to implement a method of patterns detection in process logs"
   ]
  },
  {
   "cell_type": "code",
   "execution_count": 3,
   "id": "a67807a3-85fa-4af4-b127-4d65cc4faf0e",
   "metadata": {},
   "outputs": [],
   "source": [
    "# A custom exception class\n",
    "class MyException(Exception):\n",
    "    pass"
   ]
  },
  {
   "cell_type": "code",
   "execution_count": 4,
   "id": "b21884bc-c24e-455d-a507-319d2d51ee3d",
   "metadata": {},
   "outputs": [],
   "source": [
    "class PatternsConverter():\n",
    "    \"\"\"\n",
    "    A class for converting event logs to activity matrices and saving them as images.\n",
    "\n",
    "    Attributes:\n",
    "    -----------\n",
    "    act_dict : dict or None\n",
    "        A dictionary of activity names and their indices.\n",
    "    log_file_path : str\n",
    "        The path to the input event log file.\n",
    "    caseID_col_name : str\n",
    "        The name of the column containing case IDs in the event log.\n",
    "    act_col_name : str\n",
    "        The name of the column containing activity names in the event log.\n",
    "    ts_col_name : str\n",
    "        The name of the column containing timestamps in the event log.\n",
    "    event_log : pandas.DataFrame\n",
    "        The preprocessed event log containing only the necessary columns.\n",
    "    traces_num : int\n",
    "        The number of traces in the event log.\n",
    "    max_len_prefix_trace : int\n",
    "        The length of the longest prefix trace.\n",
    "    cases_prefix_traces : list\n",
    "        A list of lists containing the prefix traces for each case.\n",
    "    activity_matrices : list\n",
    "        A list of activity matrices for each case.\n",
    "    act_dict = None\n",
    "    \"\"\"\n",
    "    \n",
    "    @classmethod\n",
    "    def set_activities_dict(cls, act_dict):\n",
    "        \"\"\"\n",
    "        Set the activities dictionary to be used for converting activities to integer values.\n",
    "\n",
    "        Parameters:\n",
    "        -----------\n",
    "        act_dict : dict\n",
    "            Dictionary containing activity names as keys and integer values as values.\n",
    "        \"\"\"\n",
    "        cls.act_dict = act_dict\n",
    "\n",
    "    \n",
    "    def __init__(self, log_file_path, caseID_col_name, act_col_name, ts_col_name):\n",
    "        \n",
    "        \"\"\"\n",
    "        Initialize the PatternsConverter class with the specified parameters.\n",
    "\n",
    "        Parameters:\n",
    "        -----------\n",
    "        log_file_path : str\n",
    "            The path to the log file.\n",
    "        caseID_col_name : str\n",
    "            The name of the column containing the case IDs.\n",
    "        act_col_name : str\n",
    "            The name of the column containing the activity names.\n",
    "        ts_col_name : str\n",
    "            The name of the column containing the timestamps.\n",
    "        \"\"\"\n",
    "        \n",
    "        self.log_file_path = log_file_path\n",
    "        \n",
    "        self.caseID_col_name = caseID_col_name \n",
    "        self.act_col_name = act_col_name\n",
    "        self.ts_col_name = ts_col_name\n",
    "        \n",
    "        #self.event_log = pd.read_csv(log_file_path, sep=ch_sep)\n",
    "        self.event_log = pm4py.read_xes(log_file_path)\n",
    "        self.event_log[caseID_col_name]=self.event_log[caseID_col_name].apply(str)\n",
    "        self.event_log[act_col_name]=self.event_log[act_col_name].apply(str)\n",
    "        self.traces_num = 0\n",
    "        self.event_log[ts_col_name]= pd.to_datetime(self.event_log[ts_col_name], utc=True, dayfirst=True)\n",
    "        self.event_log[ts_col_name]= self.event_log[ts_col_name].dt.strftime('%Y-%m-%d %H:%M:%S')\n",
    "    \n",
    "\n",
    "        self.event_log = self.event_log[[act_col_name, caseID_col_name, ts_col_name]]\n",
    "        \n",
    "\n",
    "    def __get_unique_ids(self):\n",
    "        \"\"\"\n",
    "        Get a list of unique case IDs from the event log.\n",
    "\n",
    "        Returns:\n",
    "        --------\n",
    "        list\n",
    "            A list of unique case IDs.\n",
    "        \"\"\"\n",
    "        ids = list(self.event_log[self.caseID_col_name].unique())\n",
    "        self.traces_num = len(ids)\n",
    "        return ids\n",
    "\n",
    "    def __get_case_logs(self, ids_list):\n",
    "        \"\"\"\n",
    "        Get a list of case logs (traces) from the event log, based on the specified list of case IDs.\n",
    "\n",
    "        Parameters:\n",
    "        -----------\n",
    "        ids_list : list\n",
    "            A list of case IDs.\n",
    "\n",
    "        Returns:\n",
    "        --------\n",
    "        list\n",
    "            A list of case logs.\n",
    "        \"\"\"\n",
    "        case_logs = []\n",
    "        for id in ids_list:\n",
    "            case_log = self.event_log.query(\"`{0}` == @id\".format(self.caseID_col_name))\n",
    "            case_log.sort_values(by=[self.ts_col_name])\n",
    "            if len(case_log) > 2:\n",
    "                case_logs.append(case_log)\n",
    "        return case_logs\n",
    "\n",
    "    def __get_prefix_traces(self):\n",
    "        \"\"\"\n",
    "        Get a list of prefix traces for each case in the event log.\n",
    "\n",
    "        Returns:\n",
    "        --------\n",
    "        list\n",
    "            A list of prefix traces for each case in the event log.\n",
    "        \"\"\"\n",
    "        cases_prefix_traces = []\n",
    "        self.max_len_prefix_trace = 0\n",
    "\n",
    "        for case_log in self.case_logs:\n",
    "            prefix_traces_act = []\n",
    "            for i in range(1, len(case_log) + 1):\n",
    "                prefix_trace = []\n",
    "                \n",
    "                if \"pattern_bounded_3_times\" not in self.log_file_path:\n",
    "                    prefix_trace = case_log[self.act_col_name].values[0:i]\n",
    "                else:\n",
    "                    prefix_trace = case_log[0:i]\n",
    "                   \n",
    "                # find the longest prefix trace\n",
    "                if len(prefix_trace) > self.max_len_prefix_trace:\n",
    "                    self.max_len_prefix_trace = len(prefix_trace)\n",
    "                \n",
    "                \n",
    "                prefix_traces_act.append(prefix_trace)\n",
    "                \n",
    "\n",
    "            cases_prefix_traces.append(prefix_traces_act)\n",
    "            \n",
    "        return cases_prefix_traces\n",
    "\n",
    "    def __get_activity_matrices(self):\n",
    "        \"\"\"\n",
    "        Returns a list of activity matrices, where each matrix represents the frequency of occurrence of each activity in each\n",
    "        prefix trace of the log file. The method iterates over the list of prefix traces, for each prefix trace it generates a\n",
    "        matrix where each row represents an moment of time in the trace and each column represents an activity in the activity\n",
    "        dictionary. Then it populates the matrix with the frequency of occurrence of each activity in each position of the prefix\n",
    "        trace. Finally, it converts the matrix to a numpy array and appends it to the list of activity matrices.\n",
    "\n",
    "        Returns:\n",
    "        --------\n",
    "            list: A list of numpy arrays representing the activity matrices.\n",
    "        \"\"\"\n",
    "        activity_matrices = []\n",
    "        for prefix_traces in self.cases_prefix_traces:\n",
    "            np_matrix = []\n",
    "            matrix = [[0] * len(PatternsConverter.act_dict) for i in range(self.max_len_prefix_trace)]\n",
    "            for i in range(len(prefix_traces)):\n",
    "                for act in prefix_traces[i]:\n",
    "                    act_index = PatternsConverter.act_dict[act]\n",
    "                    matrix[i][act_index] += 1\n",
    "            np_matrix = np.asmatrix(matrix)\n",
    "            np_matrix = np_matrix.astype(\"uint8\")\n",
    "            activity_matrices.append(np_matrix)\n",
    "        return activity_matrices\n",
    "\n",
    "    def convert(self, path_to_dir):\n",
    "        \"\"\"\n",
    "        Converts the log file to a set of images representing the frequency of occurrence of each activity in each prefix trace\n",
    "        of the log file. The method first retrieves the unique case ids from the log file and then obtains the prefix traces for\n",
    "        each case. Next, it generates a list of activity matrices where each matrix represents the frequency of occurrence of\n",
    "        each activity in each prefix trace. For each activity matrix, the method normalizes the values to fit within the range\n",
    "        [0, 255] and converts it to a grayscale image. Finally, it saves each image to disk with a filename following the format\n",
    "        'image_{index}.png' and returns the list of activity matrices.\n",
    "\n",
    "        Args:\n",
    "            path_to_dir (str): The path to the directory where the images will be saved.\n",
    "\n",
    "        Returns:\n",
    "        --------\n",
    "            list: A list of numpy arrays representing the activity matrices.\n",
    "        \"\"\"\n",
    "        ids_list = self.__get_unique_ids()\n",
    "\n",
    "        if \"pattern_bounded_3_times\" not in self.log_file_path:\n",
    "            self.case_logs = self.__get_case_logs(ids_list)\n",
    "        else:\n",
    "            matrix = [[\"Start\", \"Ist\", \"A\", \"A\", \"A\", \"Icmp\", \"End\"]] * 1000\n",
    "            self.case_logs = matrix\n",
    "        \n",
    "        self.cases_prefix_traces = self.__get_prefix_traces()\n",
    "        self.activity_matrices = self.__get_activity_matrices()\n",
    "\n",
    "        index = 1\n",
    "\n",
    "        for np_matrix in self.activity_matrices:\n",
    "           \n",
    "            norm_matrix = np_matrix.copy()\n",
    "            norm_matrix *= 255.0 / norm_matrix.max()\n",
    "            activity_chanel = np.squeeze(np.asarray(norm_matrix))\n",
    "            activity_chanel = activity_chanel.astype(int)\n",
    "\n",
    "            result = cv2.merge([activity_chanel, activity_chanel, activity_chanel])\n",
    "            path = path_to_dir + \"/image_\" + str(index) + \".png\"\n",
    "\n",
    "            # resize image\n",
    "            result = cv2.resize(result, (256, 256), interpolation=cv2.INTER_NEAREST)\n",
    "\n",
    "            cv2.imwrite(path, result)\n",
    "            index += 1\n"
   ]
  },
  {
   "cell_type": "code",
   "execution_count": 5,
   "id": "596eff6e-a73f-4403-8309-86779d979278",
   "metadata": {},
   "outputs": [],
   "source": [
    "class LogConverter():\n",
    "    \"\"\"\n",
    "    An utility class for converting a log file in XES format into a set of activity matrices and image files.\n",
    "        \n",
    "    Attributes:\n",
    "    -----------\n",
    "        act_dict (dict or None): A dictionary mapping activity names to integers, used for encoding the activity\n",
    "            matrix. If None, the dictionary must be provided to the class using the `set_activities_dict` method.\n",
    "        log_file_path (str): The path to the input log file in XES format.\n",
    "        caseID_col_name (str): The name of the column containing the case ID in the input log file.\n",
    "        act_col_name (str): The name of the column containing the activity name in the input log file.\n",
    "        ts_col_name (str): The name of the column containing the timestamp in the input log file.\n",
    "        event_log (pandas.DataFrame): A dataframe containing the parsed log file, with columns `act_col_name`,\n",
    "            `caseID_col_name`, and `ts_col_name`.\n",
    "        traces_num (int): The number of unique case IDs in the input log file.\n",
    "        case_logs (list): A list of dataframes, where each dataframe contains the log entries for a single case ID.\n",
    "        cases_prefix_traces (list): A list of tuples, where each tuple contains two lists of activity sequences. The\n",
    "            first list contains the prefix traces for a case, and the second list contains the remaining trace. Each\n",
    "            activity sequence is a list of activity names.\n",
    "        activity_matrices (list): A list of tuples, where each tuple contains an activity matrix (as a numpy array) and\n",
    "            the corresponding trace (as a list of activity names).\n",
    "    \"\"\"\n",
    "    \n",
    "    act_dict = None\n",
    "    \n",
    "    @classmethod\n",
    "    def set_activities_dict(cls, act_dict):\n",
    "        \"\"\"\n",
    "        Set the activities dictionary to be used for converting activities to integer values.\n",
    "\n",
    "        Parameters:\n",
    "        -----------\n",
    "        act_dict : dict\n",
    "            Dictionary containing activity names as keys and integer values as values.\n",
    "        \"\"\"\n",
    "        cls.act_dict = act_dict\n",
    "       \n",
    "    \n",
    "    def __init__(self, log_file_path, caseID_col_name, act_col_name, ts_col_name):\n",
    "        \n",
    "        \"\"\"\n",
    "        Initialize the PatternsConverter class with the specified parameters.\n",
    "\n",
    "        Parameters:\n",
    "        -----------\n",
    "        log_file_path : str\n",
    "            The path to the log file.\n",
    "        caseID_col_name : str\n",
    "            The name of the column containing the case IDs.\n",
    "        act_col_name : str\n",
    "            The name of the column containing the activity names.\n",
    "        ts_col_name : str\n",
    "            The name of the column containing the timestamps.\n",
    "        \"\"\"\n",
    "        \n",
    "        self.log_file_path = log_file_path\n",
    "        \n",
    "        self.caseID_col_name = caseID_col_name \n",
    "        self.act_col_name = act_col_name\n",
    "        self.ts_col_name = ts_col_name\n",
    "\n",
    "        #self.event_log = pd.read_csv(log_file_path, sep=ch_sep)\n",
    "        self.event_log = pm4py.read_xes(log_file_path)\n",
    "        self.event_log[caseID_col_name]=self.event_log[caseID_col_name].apply(str)\n",
    "        self.event_log[act_col_name]=self.event_log[act_col_name].apply(str)\n",
    "        self.traces_num = 0\n",
    "        self.event_log[ts_col_name]= pd.to_datetime(self.event_log[ts_col_name], utc=True, dayfirst=True)\n",
    "        self.event_log[ts_col_name]= self.event_log[ts_col_name].dt.strftime('%Y-%m-%d %H:%M:%S')\n",
    "\n",
    "        self.event_log = self.event_log[[act_col_name, caseID_col_name, ts_col_name]]\n",
    "        \n",
    "    \n",
    "    def __get_unique_ids(self):\n",
    "        \"\"\"\n",
    "        Get a list of unique case IDs from the event log.\n",
    "\n",
    "        Returns:\n",
    "        --------\n",
    "        list\n",
    "            A list of unique case IDs.\n",
    "        \"\"\"\n",
    "        ids = list(self.event_log[self.caseID_col_name].unique())\n",
    "        self.traces_num = len(ids)\n",
    "        return ids\n",
    "\n",
    "    def __get_case_logs(self, ids_list):\n",
    "        \"\"\"\n",
    "        Get a list of case logs (traces) from the event log, based on the specified list of case IDs.\n",
    "\n",
    "        Parameters:\n",
    "        -----------\n",
    "        ids_list : list\n",
    "            A list of case IDs.\n",
    "\n",
    "        Returns:\n",
    "        --------\n",
    "        list\n",
    "            A list of case logs.\n",
    "        \"\"\"\n",
    "        case_logs = []\n",
    "        for id in ids_list:\n",
    "            #case_log = self.event_log.query(\"`{0}` == @id\".format(self.caseID_col_name))\n",
    "            case_log = self.event_log[self.event_log[self.caseID_col_name] == id]\n",
    "            case_log.sort_values(by=[self.ts_col_name])\n",
    "            if len(case_log) > 2:\n",
    "                case_logs.append(case_log)\n",
    "           \n",
    "        return case_logs\n",
    "\n",
    "    def __get_prefix_traces(self):\n",
    "        \"\"\"\n",
    "        Get a list of prefix traces for each case in the event log.\n",
    "\n",
    "        Returns:\n",
    "        --------\n",
    "        list\n",
    "            A list of prefix traces for each case in the event log.\n",
    "        \"\"\"\n",
    "        cases_prefix_traces = []\n",
    "        self.max_len_prefix_trace = 0\n",
    "\n",
    "        for case_log in self.case_logs:\n",
    "            prefix_traces_act = []\n",
    "            trace = list(case_log.to_records(index=False)[1:].tolist())\n",
    "            \n",
    "            for i in range(1, len(case_log) + 1):\n",
    "                prefix_trace = case_log[self.act_col_name].values[0:i]\n",
    "                \n",
    "                # находим самую длинную префиксную трассу\n",
    "                if len(prefix_trace) > self.max_len_prefix_trace:\n",
    "                    self.max_len_prefix_trace = len(prefix_trace)\n",
    "                \n",
    "                \n",
    "                prefix_traces_act.append(prefix_trace)\n",
    "                \n",
    "\n",
    "            cases_prefix_traces.append((prefix_traces_act, trace))\n",
    "            #print(prefix_traces_act)\n",
    "        return cases_prefix_traces\n",
    "\n",
    "    def __get_activity_matrices(self):\n",
    "        \"\"\"\n",
    "        Returns a list of activity matrices, where each matrix represents the frequency of occurrence of each activity in each\n",
    "        prefix trace of the log file. The method iterates over the list of prefix traces, for each prefix trace it generates a\n",
    "        matrix where each row represents an moment of time in the trace and each column represents an activity in the activity\n",
    "        dictionary. Then it populates the matrix with the frequency of occurrence of each activity in each position of the prefix\n",
    "        trace. Finally, it converts the matrix to a numpy array and appends it to the list of activity matrices.\n",
    "\n",
    "        Returns:\n",
    "        --------\n",
    "            list: A list of numpy arrays representing the activity matrices.\n",
    "        \"\"\"\n",
    "        activity_matrices = []\n",
    "        for prefix_traces, trace in self.cases_prefix_traces:\n",
    "            np_matrix = []\n",
    "            matrix = [[0] * len(LogConverter.act_dict) for i in range(self.max_len_prefix_trace)]\n",
    "            for i in range(len(prefix_traces)):\n",
    "                for act in prefix_traces[i]:\n",
    "                    act_index = LogConverter.act_dict[act]\n",
    "                    matrix[i][act_index] += 1\n",
    "            np_matrix = np.asmatrix(matrix)\n",
    "            np_matrix = np_matrix.astype(\"uint8\")\n",
    "            activity_matrices.append((np_matrix, trace))\n",
    "        return activity_matrices\n",
    "    \n",
    "    def convert(self, path_to_img_dir, log_data_json_path):\n",
    "        \"\"\"\n",
    "        Converts the log file to a set of images representing the frequency of occurrence of each activity in each prefix trace\n",
    "        of the log file. The method first retrieves the unique case ids from the log file and then obtains the prefix traces for\n",
    "        each case. Next, it generates a list of activity matrices where each matrix represents the frequency of occurrence of\n",
    "        each activity in each prefix trace. For each activity matrix, the method normalizes the values to fit within the range\n",
    "        [0, 255] and converts it to a grayscale image. Finally, it saves each image to disk with a filename following the format\n",
    "        'image_{index}.png' and returns the list of activity matrices.\n",
    "\n",
    "        Args:\n",
    "            path_to_dir (str): The path to the directory where the images will be saved.\n",
    "\n",
    "        Returns:\n",
    "        --------\n",
    "            list: A list of numpy arrays representing the activity matrices.\n",
    "        \"\"\"\n",
    "        ids_list = self.__get_unique_ids()\n",
    "        self.case_logs = self.__get_case_logs(ids_list)\n",
    "        \n",
    "        self.cases_prefix_traces = self.__get_prefix_traces()\n",
    "        self.activity_matrices = self.__get_activity_matrices()\n",
    "\n",
    "        index = 1\n",
    "\n",
    "        tuple_data = []\n",
    "        for np_matrix, trace in self.activity_matrices:\n",
    "            norm_matrix = np_matrix.copy()\n",
    "            norm_matrix *= 255.0 / norm_matrix.max()\n",
    "            activity_chanel = np.squeeze(np.asarray(norm_matrix))\n",
    "            activity_chanel = activity_chanel.astype(int)\n",
    "\n",
    "            result = cv2.merge([activity_chanel, activity_chanel, activity_chanel])\n",
    "            path = path_to_img_dir + \"/image_\" + str(index) + \".png\"\n",
    "\n",
    "            # resize image\n",
    "            result = cv2.resize(result, (256, 256), interpolation=cv2.INTER_NEAREST)\n",
    "\n",
    "            cv2.imwrite(path, result)\n",
    "\n",
    "            pair = (path, list(trace))\n",
    "            tuple_data.append(pair)\n",
    "\n",
    "            index += 1\n",
    "            \n",
    "        with open(log_data_json_path, 'w') as f:\n",
    "            json.dump(tuple_data, f)"
   ]
  },
  {
   "cell_type": "code",
   "execution_count": 6,
   "id": "d648421b-2649-4406-a2b1-96eab10f6114",
   "metadata": {},
   "outputs": [],
   "source": [
    "class ModelLoader():\n",
    "    \"\"\"\n",
    "        A class for loading, preprocessing and training the model for recognizing\n",
    "        behavioral patterns in XES logs.\n",
    "    \"\"\"\n",
    "    def __init__(self, mode, path_patterns_img_dir, paths_patterns_XES_data=None, \n",
    "                 caseID_col_name=None, act_col_name=None, ts_col_name=None):\n",
    "        \"\"\"\n",
    "        Constructor method for the ModelLoader class.\n",
    "\n",
    "        Args:\n",
    "        - mode: int\n",
    "            Determines the mode of the ModelLoader instance.\n",
    "            - mode=0: requires the paths to the patterns XES data and names of data coilumns\n",
    "            - mode=1: does not require the paths to the patterns XES data\n",
    "        - path_patterns_img_dir: str\n",
    "            The path to the directory that will contain the pattern images.\n",
    "        - paths_patterns_XES_data: list of str, optional (default=None)\n",
    "            The list of paths to the XES files that contain the pattern data. Required if mode=0.\n",
    "        - caseID_col_name: str, optional (default=None)\n",
    "            The name of the column that contains the case IDs in the XES data.\n",
    "        - act_col_name: str, optional (default=None)\n",
    "            The name of the column that contains the activity names in the XES data.\n",
    "        - ts_col_name: str, optional (default=None)\n",
    "            The name of the column that contains the timestamps in the XES data.\n",
    "        \"\"\"\n",
    "        \n",
    "        self.path_patterns_img_dir = path_patterns_img_dir\n",
    "        self.act_dict = None\n",
    "        match mode:\n",
    "            case 0:\n",
    "                self.paths_patterns_XES_data = paths_patterns_XES_data\n",
    "            \n",
    "                self.caseID_col_name = caseID_col_name \n",
    "                self.act_col_name = act_col_name\n",
    "                self.ts_col_name = ts_col_name\n",
    "                self.__convert_data_to_img()\n",
    "            case 1:\n",
    "                pass\n",
    "            case _:\n",
    "                raise MyException(\"Wrong mode! Allowed modes are 0 and 1!\")\n",
    "                        \n",
    "        \n",
    "    def __convert_data_to_img(self):\n",
    "        \"\"\"\n",
    "        Converts the pattern data in XES format to images and saves them to the specified directory.\n",
    "        \"\"\"\n",
    "        activities = set()\n",
    "        for path in self.paths_patterns_XES_data:\n",
    "            log = pm4py.read_xes(path)\n",
    "            for act in pd.unique(log[self.act_col_name].values.ravel()):\n",
    "                activities.add(act)\n",
    "        \n",
    "        activities = sorted(activities)\n",
    "        # проводим соответствие между номером и активити\n",
    "        act_num = len(activities)\n",
    "        self.act_dict = {}\n",
    "        for i in range(act_num):\n",
    "            self.act_dict[activities[i]] = i\n",
    "        \n",
    "        PatternsConverter.set_activities_dict(self.act_dict)\n",
    "        \n",
    "        for path in self.paths_patterns_XES_data:\n",
    "            act_conv = PatternsConverter(path, self.caseID_col_name, self.act_col_name, self.ts_col_name)\n",
    "            name = os.path.basename(path)\n",
    "            size = len(name)\n",
    "            path_to_pattern_dir = self.path_patterns_img_dir + \"/\" + name[:size-4]\n",
    "            if not os.path.exists(path_to_pattern_dir):\n",
    "                os.makedirs(path_to_pattern_dir)\n",
    "            act_conv.convert(path_to_pattern_dir)\n",
    "        \n",
    "    def get_act_dict(self):\n",
    "        \"\"\"\n",
    "        Returns the activity dictionary.\n",
    "        \n",
    "        Raises:\n",
    "        - MyException: if the activity dictionary is not available.\n",
    "        \"\"\"\n",
    "        if self.act_dict != None:\n",
    "            return self.act_dict\n",
    "        else:\n",
    "            raise MyException(\"act_dict is not available!\")\n",
    "            \n",
    "            \n",
    "    def load_scale_data(self, show_sample):\n",
    "        \"\"\"\n",
    "        Loads the pattern images from the specified directory and scales them.\n",
    "\n",
    "        Args:\n",
    "        - show_sample: bool\n",
    "            Determines whether to show a sample of the loaded data or not.\n",
    "        \"\"\"\n",
    "        self.img_data = tf.keras.utils.image_dataset_from_directory(self.path_patterns_img_dir)\n",
    "        self.class_names = self.img_data.class_names\n",
    "        \n",
    "        if show_sample:\n",
    "            data_iterator = self.img_data.as_numpy_iterator()\n",
    "            batch = data_iterator.next()\n",
    "            fig, ax = plt.subplots(ncols=4, figsize=(20,20))\n",
    "            for idx, img in enumerate(batch[0][:4]):\n",
    "                ax[idx].imshow(img.astype(int))\n",
    "                ax[idx].title.set_text(batch[1][idx])\n",
    "                \n",
    "        self.img_data = self.img_data.map(lambda x,y: (x/255, y))\n",
    "        if show_sample:\n",
    "            self.img_data.as_numpy_iterator().next()\n",
    "    \n",
    "    def split_data(self, train_size_prop, val_size_prop, test_size_prop):\n",
    "        \"\"\"\n",
    "        Splits the data into training, validation, and testing sets based on\n",
    "        the proportion of data to allocate for each set.\n",
    "\n",
    "        Args:\n",
    "        - train_size_prop (float): Proportion of data to allocate for training.\n",
    "        -  val_size_prop (float): Proportion of data to allocate for validation.\n",
    "        -  test_size_prop (float): Proportion of data to allocate for testing.\n",
    "\n",
    "        Returns:\n",
    "            None\n",
    "        Raises:\n",
    "            MyException: If any of the proportions are out of range.\n",
    "\n",
    "        \"\"\"\n",
    "        arr = np.array([train_size_prop, val_size_prop, test_size_prop])\n",
    "\n",
    "        if (arr >= 0).all() and (arr <= 1).all() and int(sum(arr)+0.01) == 1:\n",
    "            train_size = int(len(self.img_data)*train_size_prop)\n",
    "            val_size = int(len(self.img_data)*val_size_prop)\n",
    "            test_size = int(len(self.img_data)*test_size_prop)\n",
    "            print(\"Whole data size is \" + str(len(self.img_data)) + \"\\nTraining data size is \" + str(train_size))\n",
    "            \n",
    "            self.train = self.img_data.take(train_size)\n",
    "            self.val = self.img_data.skip(train_size).take(val_size)\n",
    "            self.test = self.img_data.skip(train_size+val_size).take(test_size)\n",
    "        else:\n",
    "            raise MyException(\"Some of the proportions are out of range!\")\n",
    "            \n",
    "    def __build_model(self):\n",
    "        \"\"\"\n",
    "        Builds the sequential convolutional neural network model using tf.keras .\n",
    "        \"\"\"\n",
    "        self.model = Sequential()\n",
    "        num_classes = len(self.img_data)\n",
    "\n",
    "        self.model.add(Conv2D(16, (3,3), 1, activation='relu', input_shape=(256,256,3)))\n",
    "        self.model.add(BatchNormalization())\n",
    "        self.model.add(MaxPooling2D(2,2))\n",
    "        \n",
    "        self.model.add(Conv2D(32, (3,3), 1, activation='relu'))\n",
    "        self.model.add(BatchNormalization())\n",
    "        \n",
    "        self.model.add(Conv2D(16, (3,3), 1, activation='relu'))\n",
    "        self.model.add(BatchNormalization())\n",
    "        self.model.add(MaxPooling2D((2,2)))\n",
    "        \n",
    "        self.model.add(Flatten())\n",
    "        self.model.add(Dense(128, activation='relu'))\n",
    "        self.model.add(Dropout(0.5))\n",
    "        self.model.add(Dense(4, activation='softmax'))\n",
    "        \n",
    "        self.model.compile(optimizer=Adam(learning_rate=1e-06), loss=tf.keras.losses.SparseCategoricalCrossentropy(), metrics=['accuracy'])\n",
    "    \n",
    "    def __train_model(self, number_epochs, add_data_autotune):\n",
    "        \"\"\"\n",
    "        Trains the model on the training set.\n",
    "\n",
    "        Args:\n",
    "        - number_epochs (int): The number of epochs to train the model for.\n",
    "        - add_data_autotune (bool): Whether to enable data autotuning.\n",
    "        \"\"\"\n",
    "        \n",
    "        if add_data_autotune:\n",
    "            AUTOTUNE = tf.data.AUTOTUNE\n",
    "            self.train = self.train.cache().shuffle(1000).prefetch(buffer_size=AUTOTUNE)\n",
    "            self.val = self.val.cache().prefetch(buffer_size=AUTOTUNE)\n",
    "            \n",
    "        logdir='logs'\n",
    "        \n",
    "        tensorboard_callback = tf.keras.callbacks.TensorBoard(log_dir=logdir)\n",
    "        \n",
    "        self.hist = self.model.fit(self.train, epochs = number_epochs, validation_data=self.val, callbacks=[tensorboard_callback])\n",
    "    \n",
    "    def plot_model_performance(self):\n",
    "        \"\"\"\n",
    "        Plots the performance of the model during training.\n",
    "        \"\"\"\n",
    "        fig = plt.figure()\n",
    "        plt.plot(self.hist.history['loss'], color='teal', label='loss')\n",
    "        plt.plot(self.hist.history['val_loss'], color='orange', label='val_loss')\n",
    "        fig.suptitle('Loss', fontsize=20)\n",
    "        plt.legend(loc=\"upper left\")\n",
    "        plt.show()\n",
    "        \n",
    "        fig = plt.figure()\n",
    "        plt.plot(self.hist.history['accuracy'], color='teal', label='accuracy')\n",
    "        plt.plot(self.hist.history['val_accuracy'], color='orange', label='val_accuracy')\n",
    "        fig.suptitle('Accuracy', fontsize=20)\n",
    "        plt.legend(loc=\"upper left\")\n",
    "        plt.show()\n",
    "        \n",
    "    def model_summary(model):\n",
    "        \"\"\"\n",
    "        Prints a summary of the model.\n",
    "\n",
    "        Args:\n",
    "            model (keras.Model): The model to print the summary of.\n",
    "        \"\"\"\n",
    "        print(model.summary())\n",
    "    \n",
    "    def create_model(self, number_epochs, add_data_autotune):\n",
    "        \"\"\"\n",
    "        Creates and trains the convolutional neural network model.\n",
    "\n",
    "        Args:\n",
    "        - number_epochs (int): The number of epochs to train the model for.\n",
    "        - add_data_autotune (bool): Whether to enable data autotuning.\n",
    "\n",
    "        Returns:\n",
    "            tuple: A tuple containing the trained model and a dictionary mapping class indices to class names.\n",
    "\n",
    "        \"\"\"\n",
    "\n",
    "        self.__build_model()\n",
    "        self.__train_model(number_epochs, add_data_autotune)\n",
    "        return (self.model, (self.act_dict, self.class_names))\n",
    "    \n",
    "    def get_class_names():\n",
    "        \"\"\"\n",
    "        Returns the class names (names of patterns) on which the model was trained.\n",
    "        \n",
    "        Returns:\n",
    "            list: A list of class names.\n",
    "\n",
    "        \"\"\"\n",
    "        return self.class_names\n",
    "    \n",
    "    @classmethod\n",
    "    def save_model(cls, model, path_to_model_dir, model_name, info_data, path_to_info_dir, model_info_name):\n",
    "        \"\"\"\n",
    "        Saves the model and its associated data to files.\n",
    "\n",
    "        Args:\n",
    "        - model (keras.Model): The model to save.\n",
    "        - path_to_model_dir (str): The directory to save the model file in.\n",
    "        - model_name (str): The name to use for the model file.\n",
    "        - info_data (dict): The data associated with the model.\n",
    "        - path_to_info_dir (str): The directory to save the model info file in.\n",
    "        - model_info_name (str): The name to use for the model info file.\n",
    "\n",
    "        Raises:\n",
    "            MyException: If a model with the same name already exists.\n",
    "\n",
    "        \"\"\"\n",
    "        model_path = os.path.join(path_to_model_dir, model_name + \".h5\")\n",
    "        if os.path.isfile(model_path) is False:\n",
    "            model.save(model_path)\n",
    "\n",
    "            info_path = os.path.join(path_to_info_dir, model_info_name + \".json\")\n",
    "            data = (model_path, info_data)\n",
    "            with open(info_path, 'w') as f:\n",
    "                json.dump(data, f)\n",
    "        else:\n",
    "            raise MyException(\"Model with such name already exists!\")\n",
    "        \n",
    "    @classmethod\n",
    "    def load_built_model(cls, path_to_info_data):\n",
    "        \"\"\"\n",
    "        Loads a built model and its associated data from a file.\n",
    "\n",
    "        Args:\n",
    "            path_to_info_data (str): The path to the file containing the model data.\n",
    "\n",
    "        Returns:\n",
    "            tuple: A tuple containing the loaded model and its associated data.\n",
    "\n",
    "        \"\"\"\n",
    "        data = ()\n",
    "        with open(path_to_info_data, 'r') as f:\n",
    "            data = json.load(f)\n",
    "        \n",
    "        return data"
   ]
  },
  {
   "cell_type": "code",
   "execution_count": 7,
   "id": "12f50449-8fff-43e4-a52f-e9108aad542c",
   "metadata": {},
   "outputs": [],
   "source": [
    "class LogLoader:\n",
    "    \n",
    "    \"\"\"\n",
    "    A class that loads event log data and converts it to a format that can be used for further analysis.\n",
    "\n",
    "    Attributes:\n",
    "    -----------\n",
    "        mode: int\n",
    "            Determines how the data is loaded.\n",
    "            - case 0: Loads data from a log file and converts it to JSON format.\n",
    "            - case 1: Loads data from a JSON file.\n",
    "        log_data_json_path: str\n",
    "            The path to the JSON file where the log data is stored.\n",
    "        act_dict: dict, optional\n",
    "            A dictionary that maps activity names to IDs.\n",
    "        log_file_path: str, optional\n",
    "            The path to the log file to be loaded. Required if mode is 0.\n",
    "        path_to_img_dir: str, optional\n",
    "            The path to the directory where images related to the log data are stored. Required if mode is 0.\n",
    "        caseID_col_name: str, optional\n",
    "            The name of the column in the log file that contains the case ID. Required if mode is 0.\n",
    "        act_col_name: str, optional\n",
    "            The name of the column in the log file that contains the activity name. Required if mode is 0.\n",
    "        ts_col_name: str, optional\n",
    "            The name of the column in the log file that contains the timestamp. Required if mode is 0.\n",
    "\n",
    "    Methods:\n",
    "    --------\n",
    "    __init__(self, mode, log_data_json_path, act_dict=None, log_file_path=None, path_to_img_dir=None,\n",
    "             caseID_col_name=None, act_col_name=None, ts_col_name=None)\n",
    "        Initializes the LogLoader object with the given parameters.\n",
    "    __convert_data(self)\n",
    "        Converts the log data from the log file to JSON format and stores it in the img_trace_data attribute.\n",
    "    get_img_trace_data(self)\n",
    "        Returns the converted log data in JSON format.\n",
    "    \"\"\"\n",
    "\n",
    "    def __init__(self, mode, log_data_json_path, act_dict = None, log_file_path=None, \n",
    "                 path_to_img_dir = None, caseID_col_name=None, act_col_name=None,\n",
    "                 ts_col_name=None):\n",
    "        \"\"\"\n",
    "            Constructor for LogLoader class - initializes a new instance of the LogLoader class.\n",
    "            \n",
    "            Args:\n",
    "            - mode: The mode to use when loading the log data. If mode is 0, the traces will be loaded from a log file, converted to images and this pair converted to a JSON format. If mode is 1, the data will be loaded directly from a JSON file.\n",
    "            - log_data_json_path: The path to the JSON file containing the data.\n",
    "            - act_dict: A dictionary containing activity names and their corresponding activity codes.\n",
    "            - log_file_path: The path to the log file containing the log data (only used if mode is 0).\n",
    "            - path_to_img_dir: The path to the directory containing the image files associated with the log data (only used if mode is 0).\n",
    "            - caseID_col_name: The name of the column containing the case IDs in the log file (only used if mode is 0).\n",
    "            - act_col_name: The name of the column containing the activity codes in the log file (only used if mode is 0).\n",
    "            - ts_col_name: The name of the column containing the timestamps in the log file (only used if mode is 0).\n",
    "        \"\"\"\n",
    "        \n",
    "        self.log_data_json_path = log_data_json_path\n",
    "        self.act_dict = None\n",
    "        self.img_trace_data = None\n",
    "        \n",
    "        match mode:\n",
    "            case 0:\n",
    "                # Динамические поля (переменные объекта)\n",
    "                self.log_file_path = log_file_path\n",
    "                self.caseID_col_name = caseID_col_name \n",
    "                self.act_col_name = act_col_name\n",
    "                self.ts_col_name = ts_col_name\n",
    "                self.path_to_img_dir = path_to_img_dir\n",
    "                self.act_dict = act_dict\n",
    "                self.__convert_data()\n",
    "            case 1:\n",
    "                # Read data from JSON file\n",
    "                with open(self.log_data_json_path, \"r\") as f:\n",
    "                    self.img_trace_data = json.load(f)\n",
    "    \n",
    "    def __convert_data(self):  \n",
    "        \n",
    "        \"\"\"\n",
    "        Converts the log data into images.\n",
    "        \"\"\"\n",
    "        \n",
    "        LogConverter.set_activities_dict(self.act_dict)\n",
    "        \n",
    "        log_conv = LogConverter(self.log_file_path, self.caseID_col_name, self.act_col_name, self.ts_col_name)\n",
    "        log_conv.convert(self.path_to_img_dir, self.log_data_json_path)\n",
    "        # Read data from JSON file\n",
    "        with open(self.log_data_json_path, \"r\") as f:\n",
    "            self.img_trace_data = json.load(f)\n",
    "                    \n",
    "    def get_img_trace_data(self):\n",
    "        \"\"\"\n",
    "        Returns the image trace data.\n",
    "\n",
    "        Returns:\n",
    "        img_trace_data (dict or None): The image trace data dictionary or None if it is not available.\n",
    "        \"\"\"\n",
    "        if (self.img_trace_data != None):\n",
    "            return self.img_trace_data"
   ]
  },
  {
   "cell_type": "markdown",
   "id": "f9f1495c-f191-4ad5-8f64-aac7baf8881d",
   "metadata": {
    "tags": []
   },
   "source": [
    "## Method usage scenario"
   ]
  },
  {
   "cell_type": "markdown",
   "id": "22ceaeb8-783c-4a7e-b98a-f7fe43533458",
   "metadata": {},
   "source": [
    "### Create and train a new model"
   ]
  },
  {
   "cell_type": "markdown",
   "id": "8bab8a9b-2551-48f8-b4e1-ac42d2e3a899",
   "metadata": {},
   "source": [
    "#### Define a list called xes_data containing four file paths to XES files."
   ]
  },
  {
   "cell_type": "code",
   "execution_count": 8,
   "id": "a641395c-7b19-44f3-8249-5d006a95a74b",
   "metadata": {},
   "outputs": [],
   "source": [
    "xes_data = ['data_3/XES_NETS/pattern_between_after_before.xes',\n",
    "           'data_3/XES_NETS/pattern_bounded_3_times.xes',\n",
    "           'data_3/XES_NETS/pattern_exist_act_uni.xes',\n",
    "           'data_3/XES_NETS/pattern_response_direct.xes']"
   ]
  },
  {
   "cell_type": "markdown",
   "id": "711b5e5a-09da-45fc-aece-a2a1c5ead4ad",
   "metadata": {},
   "source": [
    "#### Create an instance of the ModelLoader class"
   ]
  },
  {
   "cell_type": "code",
   "execution_count": 10,
   "id": "1fc51f61-5304-4b54-aff0-3c9eb1e6be5a",
   "metadata": {},
   "outputs": [
    {
     "data": {
      "application/vnd.jupyter.widget-view+json": {
       "model_id": "cca3f0e0f4b94f079f241addafcb2670",
       "version_major": 2,
       "version_minor": 0
      },
      "text/plain": [
       "parsing log, completed traces ::   0%|          | 0/1000 [00:00<?, ?it/s]"
      ]
     },
     "metadata": {},
     "output_type": "display_data"
    },
    {
     "data": {
      "application/vnd.jupyter.widget-view+json": {
       "model_id": "cacc7dd08a4b42b8b4b0547e844e9030",
       "version_major": 2,
       "version_minor": 0
      },
      "text/plain": [
       "parsing log, completed traces ::   0%|          | 0/1000 [00:00<?, ?it/s]"
      ]
     },
     "metadata": {},
     "output_type": "display_data"
    },
    {
     "data": {
      "application/vnd.jupyter.widget-view+json": {
       "model_id": "114ac52dc05646438562fff0d9497c34",
       "version_major": 2,
       "version_minor": 0
      },
      "text/plain": [
       "parsing log, completed traces ::   0%|          | 0/1000 [00:00<?, ?it/s]"
      ]
     },
     "metadata": {},
     "output_type": "display_data"
    },
    {
     "data": {
      "application/vnd.jupyter.widget-view+json": {
       "model_id": "4fc38d2f8630496c9ae5d23316109db7",
       "version_major": 2,
       "version_minor": 0
      },
      "text/plain": [
       "parsing log, completed traces ::   0%|          | 0/1000 [00:00<?, ?it/s]"
      ]
     },
     "metadata": {},
     "output_type": "display_data"
    },
    {
     "data": {
      "application/vnd.jupyter.widget-view+json": {
       "model_id": "ef7e4b341189496bb2094c6be9066bd5",
       "version_major": 2,
       "version_minor": 0
      },
      "text/plain": [
       "parsing log, completed traces ::   0%|          | 0/1000 [00:00<?, ?it/s]"
      ]
     },
     "metadata": {},
     "output_type": "display_data"
    },
    {
     "data": {
      "application/vnd.jupyter.widget-view+json": {
       "model_id": "99a4add89cd44701a463617f7e5237bd",
       "version_major": 2,
       "version_minor": 0
      },
      "text/plain": [
       "parsing log, completed traces ::   0%|          | 0/1000 [00:00<?, ?it/s]"
      ]
     },
     "metadata": {},
     "output_type": "display_data"
    },
    {
     "data": {
      "application/vnd.jupyter.widget-view+json": {
       "model_id": "11e670b8dcf54778b9f77502222aa83a",
       "version_major": 2,
       "version_minor": 0
      },
      "text/plain": [
       "parsing log, completed traces ::   0%|          | 0/1000 [00:00<?, ?it/s]"
      ]
     },
     "metadata": {},
     "output_type": "display_data"
    },
    {
     "data": {
      "application/vnd.jupyter.widget-view+json": {
       "model_id": "189e17d719944b239cb27dcc21ba545d",
       "version_major": 2,
       "version_minor": 0
      },
      "text/plain": [
       "parsing log, completed traces ::   0%|          | 0/1000 [00:00<?, ?it/s]"
      ]
     },
     "metadata": {},
     "output_type": "display_data"
    }
   ],
   "source": [
    "%%capture --no-display\n",
    "model_loader = ModelLoader(0, 'data_3/patterns', xes_data, \"concept:instance\", \"concept:name\", \"time:timestamp\")"
   ]
  },
  {
   "cell_type": "markdown",
   "id": "976c84fd-10f1-4f9c-94ad-68748f2406ed",
   "metadata": {},
   "source": [
    "#### Load and scale the data"
   ]
  },
  {
   "cell_type": "code",
   "execution_count": 11,
   "id": "4d7c1f61-3a48-485f-a185-aedf7e857b2d",
   "metadata": {},
   "outputs": [
    {
     "name": "stdout",
     "output_type": "stream",
     "text": [
      "Found 2955 files belonging to 4 classes.\n"
     ]
    },
    {
     "data": {
      "image/png": "[encoded data removed]",
      "text/plain": [
       "<Figure size 2000x2000 with 4 Axes>"
      ]
     },
     "metadata": {},
     "output_type": "display_data"
    }
   ],
   "source": [
    "model_loader.load_scale_data(True)"
   ]
  },
  {
   "cell_type": "markdown",
   "id": "bece0e40-9637-4153-bd4d-d8816809054d",
   "metadata": {},
   "source": [
    "#### Split the data into training, validation, and test sets"
   ]
  },
  {
   "cell_type": "code",
   "execution_count": 12,
   "id": "02860f5f-7a53-4b2e-8b0a-f65590b4ffb6",
   "metadata": {},
   "outputs": [
    {
     "name": "stdout",
     "output_type": "stream",
     "text": [
      "Whole data size is 93\n",
      "Training data size is 65\n"
     ]
    }
   ],
   "source": [
    "model_loader.split_data(0.7, 0.2, 0.1)"
   ]
  },
  {
   "cell_type": "markdown",
   "id": "176e1906-b56c-4c61-b51b-e0c24049e4d0",
   "metadata": {},
   "source": [
    "#### Create a model with 10 epochs and autotune"
   ]
  },
  {
   "cell_type": "code",
   "execution_count": 13,
   "id": "e325e129-0b02-4fbe-9042-fcaf08ae2129",
   "metadata": {},
   "outputs": [
    {
     "name": "stdout",
     "output_type": "stream",
     "text": [
      "Epoch 1/10\n",
      "65/65 [==============================] - 85s 1s/step - loss: 1.8687 - accuracy: 0.4630 - val_loss: 1.3560 - val_accuracy: 0.3420\n",
      "Epoch 2/10\n",
      "65/65 [==============================] - 101s 2s/step - loss: 0.4542 - accuracy: 0.8274 - val_loss: 1.4515 - val_accuracy: 0.3420\n",
      "Epoch 3/10\n",
      "65/65 [==============================] - 98s 2s/step - loss: 0.2057 - accuracy: 0.9312 - val_loss: 1.5096 - val_accuracy: 0.3420\n",
      "Epoch 4/10\n",
      "65/65 [==============================] - 91s 1s/step - loss: 0.1090 - accuracy: 0.9716 - val_loss: 1.3777 - val_accuracy: 0.3854\n",
      "Epoch 5/10\n",
      "65/65 [==============================] - 83s 1s/step - loss: 0.0855 - accuracy: 0.9769 - val_loss: 0.9948 - val_accuracy: 0.4097\n",
      "Epoch 6/10\n",
      "65/65 [==============================] - 101s 2s/step - loss: 0.0541 - accuracy: 0.9885 - val_loss: 0.5159 - val_accuracy: 0.9115\n",
      "Epoch 7/10\n",
      "65/65 [==============================] - 93s 1s/step - loss: 0.0421 - accuracy: 0.9918 - val_loss: 0.2140 - val_accuracy: 0.9705\n",
      "Epoch 8/10\n",
      "65/65 [==============================] - 95s 1s/step - loss: 0.0365 - accuracy: 0.9947 - val_loss: 0.0879 - val_accuracy: 0.9983\n",
      "Epoch 9/10\n",
      "65/65 [==============================] - 92s 1s/step - loss: 0.0329 - accuracy: 0.9933 - val_loss: 0.0373 - val_accuracy: 0.9983\n",
      "Epoch 10/10\n",
      "65/65 [==============================] - 92s 1s/step - loss: 0.0285 - accuracy: 0.9937 - val_loss: 0.0155 - val_accuracy: 0.9983\n"
     ]
    }
   ],
   "source": [
    "model, info_data = model_loader.create_model(10, True)"
   ]
  },
  {
   "cell_type": "markdown",
   "id": "038db37f-be95-48b0-b23c-ccdfd15d1562",
   "metadata": {},
   "source": [
    "#### Save the model and information data"
   ]
  },
  {
   "cell_type": "code",
   "execution_count": 14,
   "id": "9da1d0b9-75e8-4698-97ae-e9a2acbfb2e0",
   "metadata": {},
   "outputs": [],
   "source": [
    "ModelLoader.save_model(model, \"models\", \"model_14-1\", info_data, \"info_data\", \"info_data_14-1\")"
   ]
  },
  {
   "cell_type": "markdown",
   "id": "17cb196f-bc22-4a13-b2f4-6222d549c344",
   "metadata": {},
   "source": [
    "#### Plot the performance of the model"
   ]
  },
  {
   "cell_type": "code",
   "execution_count": 15,
   "id": "d3abee94-dc69-4c23-a873-0f7fbdea9230",
   "metadata": {},
   "outputs": [
    {
     "data": {
      "image/png": "[encoded data removed]",
      "text/plain": [
       "<Figure size 640x480 with 1 Axes>"
      ]
     },
     "metadata": {},
     "output_type": "display_data"
    },
    {
     "data": {
      "image/png": "[encoded data removed]",
      "text/plain": [
       "<Figure size 640x480 with 1 Axes>"
      ]
     },
     "metadata": {},
     "output_type": "display_data"
    }
   ],
   "source": [
    "model_loader.plot_model_performance()"
   ]
  },
  {
   "cell_type": "markdown",
   "id": "789db190-e3f1-4cd6-bd6c-53b09bea4db9",
   "metadata": {},
   "source": [
    "#### Examine information data"
   ]
  },
  {
   "cell_type": "code",
   "execution_count": 16,
   "id": "61e4f035-3fdb-4b10-9b06-d396cfc29687",
   "metadata": {
    "tags": []
   },
   "outputs": [
    {
     "data": {
      "text/plain": [
       "({'A': 0, 'B': 1, 'C': 2, 'End': 3, 'Icmp': 4, 'Ist': 5, 'Start': 6, 'T': 7},\n",
       " ['pattern_between_after_before',\n",
       "  'pattern_bounded_3_times',\n",
       "  'pattern_exist_act_uni',\n",
       "  'pattern_response_direct'])"
      ]
     },
     "execution_count": 16,
     "metadata": {},
     "output_type": "execute_result"
    }
   ],
   "source": [
    "info_data"
   ]
  },
  {
   "cell_type": "markdown",
   "id": "db261144-ec0a-4e6f-99cf-0f99dfff0a4b",
   "metadata": {
    "tags": []
   },
   "source": [
    "### Load the saved model and extract model object, activity dictionary, and class names"
   ]
  },
  {
   "cell_type": "code",
   "execution_count": 24,
   "id": "f5ec1c2e-2d59-4276-a607-916480c48ef2",
   "metadata": {},
   "outputs": [],
   "source": [
    "model_data = ModelLoader.load_built_model('info_data/info_data_14-1.json')\n",
    "model = load_model(model_data[0])\n",
    "act_dict = model_data[1][0]\n",
    "class_names = model_data[1][1]"
   ]
  },
  {
   "cell_type": "markdown",
   "id": "8502b84e-235d-4dd7-9fa0-6b7da13f5c0d",
   "metadata": {
    "tags": []
   },
   "source": [
    "## Perform predictions"
   ]
  },
  {
   "cell_type": "markdown",
   "id": "4cbe2d0c-d50e-4545-98be-49397c4cf3e4",
   "metadata": {},
   "source": [
    "#### Create a LogLoader object with mode 0, providing the necessary parameters"
   ]
  },
  {
   "cell_type": "code",
   "execution_count": 27,
   "id": "03aae252-c98b-425c-a402-2cb77b88ed71",
   "metadata": {},
   "outputs": [
    {
     "data": {
      "application/vnd.jupyter.widget-view+json": {
       "model_id": "0099f7fb5b294f27a1b0d3a55ae0d3f9",
       "version_major": 2,
       "version_minor": 0
      },
      "text/plain": [
       "parsing log, completed traces ::   0%|          | 0/1000 [00:00<?, ?it/s]"
      ]
     },
     "metadata": {},
     "output_type": "display_data"
    }
   ],
   "source": [
    "log_loader = LogLoader(0, \"data_3/JSON/data.json\", act_dict, \"data_3/XES_NETS/test_net_1_RD_BetwAB_patterns.xes\", \"data_3/Log_Images_Bound3T_EAU\", \"concept:instance\", \"concept:name\", \"time:timestamp\")"
   ]
  },
  {
   "cell_type": "markdown",
   "id": "2ad297af-1657-45c1-a03e-89d39b3040a3",
   "metadata": {},
   "source": [
    "#### Alternatively, create a LogLoader object with mode 1, reading data from a JSON file"
   ]
  },
  {
   "cell_type": "code",
   "execution_count": 28,
   "id": "6feb2700-be92-4688-ba4f-38e49b8b5189",
   "metadata": {},
   "outputs": [],
   "source": [
    "#log_loader = LogLoader(1, \"data_2/JSON/data.json\")"
   ]
  },
  {
   "cell_type": "markdown",
   "id": "3ee4d99e-9bb7-4800-8a6e-45d46adad5f3",
   "metadata": {},
   "source": [
    "#### Get the image trace data by calling the get_img_trace_data() method on the LogLoader object"
   ]
  },
  {
   "cell_type": "code",
   "execution_count": 29,
   "id": "8e7f1bde-1360-4bbb-bfbb-312778ecf160",
   "metadata": {},
   "outputs": [],
   "source": [
    "data = log_loader.get_img_trace_data()"
   ]
  },
  {
   "cell_type": "markdown",
   "id": "48e5460a-6181-4c31-b290-a83c7581e9cc",
   "metadata": {},
   "source": [
    "#### Create an empty dictionary to store the detected classes and their traces"
   ]
  },
  {
   "cell_type": "code",
   "execution_count": 30,
   "id": "ff3ed06b-05d7-486b-9535-0c9175abff8f",
   "metadata": {},
   "outputs": [],
   "source": [
    "classes = {}"
   ]
  },
  {
   "cell_type": "markdown",
   "id": "16d04289-ae9d-4307-9f8d-778f7f1d802d",
   "metadata": {},
   "source": [
    "#### Loop through each image path and corresponding trace in the data"
   ]
  },
  {
   "cell_type": "code",
   "execution_count": 31,
   "id": "b7aa5d85-783d-4e92-9169-a906a2138a9b",
   "metadata": {},
   "outputs": [],
   "source": [
    "for img_path, trace in data:\n",
    "    # Load and resize image so it would be suitable for a neural network\n",
    "    image = cv2.imread(img_path)\n",
    "    resize = tf.image.resize(image, (256,256))\n",
    "    \n",
    "    # Predict the class of the image using the pre-trained model\n",
    "    yhat = model.predict(np.expand_dims(resize/255, 0), verbose = 0)\n",
    "    img_pattern_class = class_names[np.argmax(yhat)]\n",
    "    \n",
    "    # If neural network confidence (softmax layer) is more than 85 percent\n",
    "    if (np.max(yhat) > 0.85):\n",
    "        # If the detected class is not in the dictionary, add it and its trace to the dictionary\n",
    "        if img_pattern_class not in classes:\n",
    "            classes[img_pattern_class] = trace\n",
    "\n",
    "        # If the detected class is already in the dictionary, add the trace to the existing traces for that class\n",
    "        classes[img_pattern_class] + trace"
   ]
  },
  {
   "cell_type": "markdown",
   "id": "e28ecb23-84a9-4c8d-9546-4e41f4bceb7a",
   "metadata": {},
   "source": [
    "#### Visualize the results for each found pattern by creating its' Petri net"
   ]
  },
  {
   "cell_type": "code",
   "execution_count": 32,
   "id": "59f024c3-3368-449b-8ea8-358b416c1325",
   "metadata": {},
   "outputs": [
    {
     "data": {
      "image/png": "[encoded data removed]",
      "text/plain": [
       "<Figure size 100x100 with 1 Axes>"
      ]
     },
     "metadata": {},
     "output_type": "display_data"
    },
    {
     "data": {
      "image/png": "[encoded data removed]",
      "text/plain": [
       "<IPython.core.display.Image object>"
      ]
     },
     "metadata": {},
     "output_type": "display_data"
    },
    {
     "data": {
      "image/png": "[encoded data removed]",
      "text/plain": [
       "<Figure size 100x100 with 1 Axes>"
      ]
     },
     "metadata": {},
     "output_type": "display_data"
    },
    {
     "data": {
      "image/png": "[encoded data removed]",
      "text/plain": [
       "<IPython.core.display.Image object>"
      ]
     },
     "metadata": {},
     "output_type": "display_data"
    }
   ],
   "source": [
    "%%capture --no-display\n",
    "for key in classes:\n",
    "    \n",
    "    # Setting up the visualization\n",
    "    fig, ax = plt.subplots(figsize=(1, 1))\n",
    "    ax.axis('off')\n",
    "    ax.text(0.1, 0.5, key, ha='center', va='center', fontsize=15)\n",
    "    plt.show()\n",
    "    \n",
    "    # Connecting all traces of pattern to one pm4py event log\n",
    "    log = pd.DataFrame(classes[key])\n",
    "    log[2] = pd.to_datetime(log[2])\n",
    "    log.columns = ['Activity_Name', 'CaseID', 'CompleteTimestamp']\n",
    "    format_df = pm4py.format_dataframe(log, case_id = 'CaseID', activity_key = 'Activity_Name', timestamp_key = 'CompleteTimestamp')\n",
    "    event_log = pm4py.convert_to_event_log(format_df)\n",
    "    \n",
    "    # Creat Petri net using Inductive Miner\n",
    "    net, im, fm = pm4py.discover_petri_net_inductive(event_log)\n",
    "    \n",
    "    # Plot Petri net\n",
    "    pm4py.view_petri_net(net, im, fm, format = 'png')"
   ]
  }
 ],
 "metadata": {
  "kernelspec": {
   "display_name": "courseproject",
   "language": "python",
   "name": "courseproject"
  },
  "language_info": {
   "codemirror_mode": {
    "name": "ipython",
    "version": 3
   },
   "file_extension": ".py",
   "mimetype": "text/x-python",
   "name": "python",
   "nbconvert_exporter": "python",
   "pygments_lexer": "ipython3",
   "version": "3.10.9"
  }
 },
 "nbformat": 4,
 "nbformat_minor": 5
}
