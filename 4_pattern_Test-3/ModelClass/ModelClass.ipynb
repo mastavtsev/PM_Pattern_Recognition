{
 "cells": [
  {
   "cell_type": "code",
   "execution_count": 2,
   "id": "ef34d491-b899-4a04-a82b-bb7838170fb0",
   "metadata": {},
   "outputs": [],
   "source": [
    "import tensorflow as tf\n",
    "import os\n",
    "import cv2\n",
    "import imghdr\n",
    "import numpy as np\n",
    "import pm4py\n",
    "import pandas as pd\n",
    "from matplotlib import pyplot as plt\n",
    "from tensorflow.keras.metrics import Precision, Recall, BinaryAccuracy\n",
    "from tensorflow.keras.models import load_model\n",
    "from tensorflow.keras.models import Sequential\n",
    "from tensorflow.keras.layers import Conv2D, MaxPooling2D, Dense, Flatten, Dropout\n",
    "%run \"../ConvertersClass/PatternsConverter.ipynb\"\n",
    "%run \"../ConvertersClass/LogConverter.ipynb\""
   ]
  },
  {
   "cell_type": "code",
   "execution_count": 12,
   "id": "67b5e40c-b3ae-43af-aebe-a6ae9117505b",
   "metadata": {},
   "outputs": [
    {
     "ename": "IndentationError",
     "evalue": "expected an indented block after 'for' statement on line 35 (811772150.py, line 37)",
     "output_type": "error",
     "traceback": [
      "\u001b[1;36m  Cell \u001b[1;32mIn[12], line 37\u001b[1;36m\u001b[0m\n\u001b[1;33m    def load_scale_data(self, show_sample):\u001b[0m\n\u001b[1;37m    ^\u001b[0m\n\u001b[1;31mIndentationError\u001b[0m\u001b[1;31m:\u001b[0m expected an indented block after 'for' statement on line 35\n"
     ]
    }
   ],
   "source": [
    "# A custom exception class\n",
    "class MyException(Exception):\n",
    "    pass\n",
    "\n",
    "class ModelLoader():\n",
    "    def __init__(self, mode, path_patterns_img_dir, paths_patterns_XES_data=None, \n",
    "                 caseID_col_name=None, act_col_name=None, ts_col_name=None):\n",
    "        self.path_patterns_img_dir = path_patterns_img_dir\n",
    "        if mode == 0:\n",
    "            self.paths_patterns_XES_data = paths_patterns_XES_data\n",
    "            \n",
    "            # Динамические поля (переменные объекта)\n",
    "            self.caseID_col_name = caseID_col_name \n",
    "            self.act_col_name = act_col_name\n",
    "            self.ts_col_name = ts_col_name\n",
    "            self.__convert_data_to_img()     \n",
    "        \n",
    "    def __convert_data_to_img(self):\n",
    "        activities = set()\n",
    "        for path in self.paths_patterns_XES_data:\n",
    "            log = pm4py.read_xes(path)\n",
    "            for act in pd.unique(log[self.act_col_name].values.ravel()):\n",
    "                activities.add(act)\n",
    "        \n",
    "        PatternsConverter.set_activities(activities)\n",
    "        for path in self.paths_patterns_XES_data:\n",
    "            act_conv = PatternsConverter(path, self.caseID_col_name, self.act_col_name, self.ts_col_name)\n",
    "            name = os.path.basename(path)\n",
    "            size = len(name)\n",
    "            path_to_pattern_dir = self.path_patterns_img_dir + \"/\" + name[:size-4]\n",
    "            if not os.path.exists(path_to_pattern_dir):\n",
    "                os.makedirs(path_to_pattern_dir)\n",
    "            act_conv.convert(path_to_pattern_dir)\n",
    "        \n",
    "       \n",
    "            \n",
    "            \n",
    "    def load_scale_data(self, show_sample):\n",
    "        self.img_data = tf.keras.utils.image_dataset_from_directory(self.path_patterns_img_dir)\n",
    "        self.class_names = self.img_data.class_names\n",
    "        \n",
    "        if show_sample:\n",
    "            data_iterator = self.img_data.as_numpy_iterator()\n",
    "            batch = data_iterator.next()\n",
    "            fig, ax = plt.subplots(ncols=4, figsize=(20,20))\n",
    "            for idx, img in enumerate(batch[0][:4]):\n",
    "                ax[idx].imshow(img.astype(int))\n",
    "                ax[idx].title.set_text(batch[1][idx])\n",
    "                \n",
    "        self.img_data = self.img_data.map(lambda x,y: (x/255, y))\n",
    "        if show_sample:\n",
    "            self.img_data.as_numpy_iterator().next()\n",
    "    \n",
    "    def split_data(self, train_size_prop, val_size_prop, test_size_prop):\n",
    "        \n",
    "        arr = np.array([train_size_prop, val_size_prop, test_size_prop])\n",
    "\n",
    "        if (arr >= 0).all() and (arr <= 1).all():\n",
    "            train_size = int(len(self.img_data)*train_size_prop)\n",
    "            val_size = int(len(self.img_data)*val_size_prop)\n",
    "            test_size = int(len(self.img_data)*test_size_prop)\n",
    "            print(\"Whole data size is \" + str(len(self.img_data)) + \"\\nTraining data size is \" + str(train_size))\n",
    "            \n",
    "            self.train = self.img_data.take(train_size)\n",
    "            self.val = self.img_data.skip(train_size).take(val_size)\n",
    "            self.test = self.img_data.skip(train_size+val_size).take(test_size)\n",
    "        else:\n",
    "            raise MyException(\"Some of the proportions are out of range!\")\n",
    "            \n",
    "    def __build_model(self):\n",
    "        self.model = Sequential()\n",
    "        num_classes = len(self.img_data)\n",
    "\n",
    "        self.model.add(Conv2D(16, (3,3), 1, activation='relu', input_shape=(256,256,3)))\n",
    "        self.model.add(MaxPooling2D())\n",
    "        self.model.add(Conv2D(32, (3,3), 1, activation='relu'))\n",
    "        self.model.add(MaxPooling2D())\n",
    "        self.model.add(Conv2D(16, (3,3), 1, activation='relu'))\n",
    "        self.model.add(MaxPooling2D())\n",
    "        self.model.add(Dropout(0.2))\n",
    "        self.model.add(Flatten())\n",
    "        self.model.add(Dense(num_classes, activation='relu'))\n",
    "        \n",
    "        self.model.compile('adam', loss=tf.keras.losses.SparseCategoricalCrossentropy(from_logits=True), metrics=['accuracy'])\n",
    "    \n",
    "    def __train_model(self, number_epochs, add_data_autotune):\n",
    "        \n",
    "        if add_data_autotune:\n",
    "            AUTOTUNE = tf.data.AUTOTUNE\n",
    "            self.train = self.train.cache().shuffle(1000).prefetch(buffer_size=AUTOTUNE)\n",
    "            self.val = self.val.cache().prefetch(buffer_size=AUTOTUNE)\n",
    "            \n",
    "        logdir='logs'\n",
    "        \n",
    "        tensorboard_callback = tf.keras.callbacks.TensorBoard(log_dir=logdir)\n",
    "        callback = tf.keras.callbacks.EarlyStopping(monitor='accuracy', patience=2)\n",
    "        \n",
    "        self.hist = self.model.fit(self.train, epochs = number_epochs, validation_data=self.val, callbacks=[callback, tensorboard_callback])\n",
    "    \n",
    "    def plot_model_performance():\n",
    "        fig = plt.figure()\n",
    "        plt.plot(self.hist.history['loss'], color='teal', label='loss')\n",
    "        plt.plot(self.hist.history['val_loss'], color='orange', label='val_loss')\n",
    "        fig.suptitle('Loss', fontsize=20)\n",
    "        plt.legend(loc=\"upper left\")\n",
    "        plt.show()\n",
    "        \n",
    "        fig = plt.figure()\n",
    "        plt.plot(self.hist.history['accuracy'], color='teal', label='accuracy')\n",
    "        plt.plot(self.hist.history['val_accuracy'], color='orange', label='val_accuracy')\n",
    "        fig.suptitle('Accuracy', fontsize=20)\n",
    "        plt.legend(loc=\"upper left\")\n",
    "        plt.show()\n",
    "        \n",
    "    def model_summary(model):\n",
    "        print(model.summary())\n",
    "    \n",
    "    def create_model(self, number_epochs, add_data_autotune):\n",
    "        self.__build_model()\n",
    "        self.__train_model(number_epochs, add_data_autotune)\n",
    "        return self.model\n",
    "    \n",
    "    @classmethod\n",
    "    def save_model(cls, model, path_to_model_dir, model_name):\n",
    "        model.save(os.path.join(path_to_model_dir, model_name + \".h5\"))\n",
    "        \n",
    "    @classmethod\n",
    "    def load_build_model(cls, path_to_model):\n",
    "        return load_model(path_to_model)"
   ]
  },
  {
   "cell_type": "code",
   "execution_count": 4,
   "id": "03a3041a-75e0-421e-b9e5-b4d6282db541",
   "metadata": {},
   "outputs": [],
   "source": [
    "xes_data = ['../data_2/XES_NETS/pattern_between_after_before.xes',\n",
    "           '../data_2/XES_NETS/pattern_bounded_3_times.xes',\n",
    "           '../data_2/XES_NETS/pattern_exist_act_uni.xes',\n",
    "           '../data_2/XES_NETS/pattern_response_direct.xes']"
   ]
  },
  {
   "cell_type": "code",
   "execution_count": null,
   "id": "e2ce58d4-9975-4d17-8786-0efe3578e3fa",
   "metadata": {},
   "outputs": [],
   "source": [
    "model_loader = ModelLoader(1, '../data_2/patterns')\n",
    "\n",
    "model_loader.load_scale_data(True)\n",
    "model_loader.split_data(0.7, 0.2, 0.1)\n",
    "model = model_loader.create_model(5, True)\n",
    "plot_performance(model)"
   ]
  },
  {
   "cell_type": "code",
   "execution_count": 7,
   "id": "7c472069-c58a-42f2-9e87-0e6859d2e825",
   "metadata": {},
   "outputs": [],
   "source": [
    "model = ModelLoader.load_build_model(\"../models/pattern_model_10.h5\")"
   ]
  },
  {
   "cell_type": "code",
   "execution_count": 9,
   "id": "ed2f4cf8-9cfd-4944-a66c-5ee72f46fead",
   "metadata": {},
   "outputs": [
    {
     "data": {
      "image/png": "[encoded data removed]",
      "text/plain": [
       "<Figure size 640x480 with 1 Axes>"
      ]
     },
     "metadata": {},
     "output_type": "display_data"
    }
   ],
   "source": [
    "img = cv2.imread('../direct_image_29.png')\n",
    "plt.imshow(img)\n",
    "plt.show()"
   ]
  },
  {
   "cell_type": "code",
   "execution_count": 10,
   "id": "4e05e6eb-1156-489e-8a39-c5949287a8d5",
   "metadata": {},
   "outputs": [
    {
     "name": "stdout",
     "output_type": "stream",
     "text": [
      "1/1 [==============================] - 0s 411ms/step\n",
      "Found 3471 files belonging to 4 classes.\n",
      "This image most likely belongs to pattern_response_direct.\n"
     ]
    }
   ],
   "source": [
    "yhat = model.predict(np.expand_dims(img/255, 0))\n",
    "class_names = tf.keras.utils.image_dataset_from_directory(\"../data_2/patterns\").class_names\n",
    "print(\n",
    "    \"This image most likely belongs to {}.\"\n",
    "    .format(class_names[np.argmax(yhat)])\n",
    ")"
   ]
  },
  {
   "cell_type": "code",
   "execution_count": 11,
   "id": "5bfb3ae7-e7b7-4ecc-96af-edf655547b6a",
   "metadata": {},
   "outputs": [
    {
     "data": {
      "text/plain": [
       "array([[ 0.      ,  0.      , 12.248109, 22.104836,  0.      ,  0.      ,\n",
       "         0.      ,  0.      ,  0.      ,  0.      ,  0.      ,  0.      ,\n",
       "         0.      ,  0.      ,  0.      ,  0.      ,  0.      ,  0.      ,\n",
       "         0.      ,  0.      ,  0.      ,  0.      ,  0.      ,  0.      ,\n",
       "         0.      ,  0.      ,  0.      ,  0.      ,  0.      ,  0.      ,\n",
       "         0.      ,  0.      ,  0.      ,  0.      ,  0.      ,  0.      ,\n",
       "         0.      ,  0.      ,  0.      ,  0.      ,  0.      ,  0.      ,\n",
       "         0.      ,  0.      ,  0.      ,  0.      ,  0.      ,  0.      ,\n",
       "         0.      ,  0.      ,  0.      ,  0.      ,  0.      ,  0.      ,\n",
       "         0.      ,  0.      ,  0.      ,  0.      ,  0.      ,  0.      ,\n",
       "         0.      ,  0.      ,  0.      ,  0.      ,  0.      ,  0.      ,\n",
       "         0.      ,  0.      ,  0.      ,  0.      ,  0.      ,  0.      ,\n",
       "         0.      ,  0.      ,  0.      ,  0.      ,  0.      ,  0.      ,\n",
       "         0.      ,  0.      ,  0.      ,  0.      ,  0.      ,  0.      ,\n",
       "         0.      ,  0.      ,  0.      ,  0.      ,  0.      ,  0.      ,\n",
       "         0.      ,  0.      ,  0.      ,  0.      ,  0.      ,  0.      ,\n",
       "         0.      ,  0.      ,  0.      ,  0.      ,  0.      ,  0.      ,\n",
       "         0.      ,  0.      ,  0.      ,  0.      ,  0.      ,  0.      ,\n",
       "         0.      ]], dtype=float32)"
      ]
     },
     "execution_count": 11,
     "metadata": {},
     "output_type": "execute_result"
    }
   ],
   "source": [
    "yhat"
   ]
  },
  {
   "cell_type": "code",
   "execution_count": null,
   "id": "702ce3db-ed5e-4461-86a9-f13164846684",
   "metadata": {},
   "outputs": [],
   "source": []
  }
 ],
 "metadata": {
  "kernelspec": {
   "display_name": "courseproject",
   "language": "python",
   "name": "courseproject"
  },
  "language_info": {
   "codemirror_mode": {
    "name": "ipython",
    "version": 3
   },
   "file_extension": ".py",
   "mimetype": "text/x-python",
   "name": "python",
   "nbconvert_exporter": "python",
   "pygments_lexer": "ipython3",
   "version": "3.10.9"
  }
 },
 "nbformat": 4,
 "nbformat_minor": 5
}
